{
 "cells": [
  {
   "cell_type": "markdown",
   "metadata": {},
   "source": [
    "## Logistic Regression"
   ]
  },
  {
   "cell_type": "code",
   "execution_count": 2,
   "metadata": {},
   "outputs": [],
   "source": [
    "import pandas as pd\n",
    "import numpy as np\n",
    "\n",
    "from sklearn.model_selection import train_test_split\n",
    "from sklearn.model_selection import GridSearchCV\n",
    "\n",
    "from sklearn.metrics import accuracy_score, recall_score, classification_report, roc_auc_score, roc_curve, brier_score_loss, mean_squared_error, r2_score\n",
    "from imblearn.over_sampling import SMOTE\n",
    "\n",
    "from sklearn.linear_model import LogisticRegression\n",
    "\n",
    "import matplotlib.pyplot as plt"
   ]
  },
  {
   "cell_type": "code",
   "execution_count": 3,
   "metadata": {},
   "outputs": [
    {
     "data": {
      "text/html": [
       "<div>\n",
       "<style scoped>\n",
       "    .dataframe tbody tr th:only-of-type {\n",
       "        vertical-align: middle;\n",
       "    }\n",
       "\n",
       "    .dataframe tbody tr th {\n",
       "        vertical-align: top;\n",
       "    }\n",
       "\n",
       "    .dataframe thead th {\n",
       "        text-align: right;\n",
       "    }\n",
       "</style>\n",
       "<table border=\"1\" class=\"dataframe\">\n",
       "  <thead>\n",
       "    <tr style=\"text-align: right;\">\n",
       "      <th></th>\n",
       "      <th>CustomerID</th>\n",
       "      <th>invoice_count</th>\n",
       "      <th>total_products</th>\n",
       "      <th>avg_purchase_frequency</th>\n",
       "      <th>avg_spend_ttm</th>\n",
       "      <th>label</th>\n",
       "    </tr>\n",
       "  </thead>\n",
       "  <tbody>\n",
       "    <tr>\n",
       "      <th>0</th>\n",
       "      <td>15185</td>\n",
       "      <td>1</td>\n",
       "      <td>666</td>\n",
       "      <td>0.000000</td>\n",
       "      <td>31.062</td>\n",
       "      <td>0</td>\n",
       "    </tr>\n",
       "    <tr>\n",
       "      <th>1</th>\n",
       "      <td>17131</td>\n",
       "      <td>5</td>\n",
       "      <td>983</td>\n",
       "      <td>0.526316</td>\n",
       "      <td>246.317</td>\n",
       "      <td>0</td>\n",
       "    </tr>\n",
       "    <tr>\n",
       "      <th>2</th>\n",
       "      <td>16475</td>\n",
       "      <td>4</td>\n",
       "      <td>319</td>\n",
       "      <td>6.851852</td>\n",
       "      <td>54.430</td>\n",
       "      <td>0</td>\n",
       "    </tr>\n",
       "    <tr>\n",
       "      <th>3</th>\n",
       "      <td>13854</td>\n",
       "      <td>29</td>\n",
       "      <td>2278</td>\n",
       "      <td>3.159292</td>\n",
       "      <td>802.502</td>\n",
       "      <td>0</td>\n",
       "    </tr>\n",
       "    <tr>\n",
       "      <th>4</th>\n",
       "      <td>14741</td>\n",
       "      <td>6</td>\n",
       "      <td>841</td>\n",
       "      <td>6.224138</td>\n",
       "      <td>140.034</td>\n",
       "      <td>0</td>\n",
       "    </tr>\n",
       "    <tr>\n",
       "      <th>...</th>\n",
       "      <td>...</td>\n",
       "      <td>...</td>\n",
       "      <td>...</td>\n",
       "      <td>...</td>\n",
       "      <td>...</td>\n",
       "      <td>...</td>\n",
       "    </tr>\n",
       "    <tr>\n",
       "      <th>1695</th>\n",
       "      <td>15858</td>\n",
       "      <td>5</td>\n",
       "      <td>1167</td>\n",
       "      <td>1.852632</td>\n",
       "      <td>143.885</td>\n",
       "      <td>0</td>\n",
       "    </tr>\n",
       "    <tr>\n",
       "      <th>1696</th>\n",
       "      <td>13344</td>\n",
       "      <td>3</td>\n",
       "      <td>971</td>\n",
       "      <td>1.779661</td>\n",
       "      <td>254.372</td>\n",
       "      <td>1</td>\n",
       "    </tr>\n",
       "    <tr>\n",
       "      <th>1697</th>\n",
       "      <td>16924</td>\n",
       "      <td>4</td>\n",
       "      <td>480</td>\n",
       "      <td>0.715909</td>\n",
       "      <td>73.950</td>\n",
       "      <td>0</td>\n",
       "    </tr>\n",
       "    <tr>\n",
       "      <th>1698</th>\n",
       "      <td>13003</td>\n",
       "      <td>3</td>\n",
       "      <td>103</td>\n",
       "      <td>21.800000</td>\n",
       "      <td>14.905</td>\n",
       "      <td>0</td>\n",
       "    </tr>\n",
       "    <tr>\n",
       "      <th>1699</th>\n",
       "      <td>15260</td>\n",
       "      <td>8</td>\n",
       "      <td>861</td>\n",
       "      <td>3.532468</td>\n",
       "      <td>178.077</td>\n",
       "      <td>0</td>\n",
       "    </tr>\n",
       "  </tbody>\n",
       "</table>\n",
       "<p>1700 rows × 6 columns</p>\n",
       "</div>"
      ],
      "text/plain": [
       "      CustomerID  invoice_count  total_products  avg_purchase_frequency  \\\n",
       "0          15185              1             666                0.000000   \n",
       "1          17131              5             983                0.526316   \n",
       "2          16475              4             319                6.851852   \n",
       "3          13854             29            2278                3.159292   \n",
       "4          14741              6             841                6.224138   \n",
       "...          ...            ...             ...                     ...   \n",
       "1695       15858              5            1167                1.852632   \n",
       "1696       13344              3             971                1.779661   \n",
       "1697       16924              4             480                0.715909   \n",
       "1698       13003              3             103               21.800000   \n",
       "1699       15260              8             861                3.532468   \n",
       "\n",
       "      avg_spend_ttm  label  \n",
       "0            31.062      0  \n",
       "1           246.317      0  \n",
       "2            54.430      0  \n",
       "3           802.502      0  \n",
       "4           140.034      0  \n",
       "...             ...    ...  \n",
       "1695        143.885      0  \n",
       "1696        254.372      1  \n",
       "1697         73.950      0  \n",
       "1698         14.905      0  \n",
       "1699        178.077      0  \n",
       "\n",
       "[1700 rows x 6 columns]"
      ]
     },
     "execution_count": 3,
     "metadata": {},
     "output_type": "execute_result"
    }
   ],
   "source": [
    "data = pd.read_csv('CMU_resample.csv')\n",
    "data"
   ]
  },
  {
   "cell_type": "code",
   "execution_count": 4,
   "metadata": {},
   "outputs": [
    {
     "data": {
      "text/html": [
       "<div>\n",
       "<style scoped>\n",
       "    .dataframe tbody tr th:only-of-type {\n",
       "        vertical-align: middle;\n",
       "    }\n",
       "\n",
       "    .dataframe tbody tr th {\n",
       "        vertical-align: top;\n",
       "    }\n",
       "\n",
       "    .dataframe thead th {\n",
       "        text-align: right;\n",
       "    }\n",
       "</style>\n",
       "<table border=\"1\" class=\"dataframe\">\n",
       "  <thead>\n",
       "    <tr style=\"text-align: right;\">\n",
       "      <th></th>\n",
       "      <th>invoice_count</th>\n",
       "      <th>total_products</th>\n",
       "      <th>avg_purchase_frequency</th>\n",
       "      <th>avg_spend_ttm</th>\n",
       "    </tr>\n",
       "  </thead>\n",
       "  <tbody>\n",
       "    <tr>\n",
       "      <th>0</th>\n",
       "      <td>1</td>\n",
       "      <td>666</td>\n",
       "      <td>0.000000</td>\n",
       "      <td>31.062</td>\n",
       "    </tr>\n",
       "    <tr>\n",
       "      <th>1</th>\n",
       "      <td>5</td>\n",
       "      <td>983</td>\n",
       "      <td>0.526316</td>\n",
       "      <td>246.317</td>\n",
       "    </tr>\n",
       "    <tr>\n",
       "      <th>2</th>\n",
       "      <td>4</td>\n",
       "      <td>319</td>\n",
       "      <td>6.851852</td>\n",
       "      <td>54.430</td>\n",
       "    </tr>\n",
       "    <tr>\n",
       "      <th>3</th>\n",
       "      <td>29</td>\n",
       "      <td>2278</td>\n",
       "      <td>3.159292</td>\n",
       "      <td>802.502</td>\n",
       "    </tr>\n",
       "    <tr>\n",
       "      <th>4</th>\n",
       "      <td>6</td>\n",
       "      <td>841</td>\n",
       "      <td>6.224138</td>\n",
       "      <td>140.034</td>\n",
       "    </tr>\n",
       "    <tr>\n",
       "      <th>...</th>\n",
       "      <td>...</td>\n",
       "      <td>...</td>\n",
       "      <td>...</td>\n",
       "      <td>...</td>\n",
       "    </tr>\n",
       "    <tr>\n",
       "      <th>1695</th>\n",
       "      <td>5</td>\n",
       "      <td>1167</td>\n",
       "      <td>1.852632</td>\n",
       "      <td>143.885</td>\n",
       "    </tr>\n",
       "    <tr>\n",
       "      <th>1696</th>\n",
       "      <td>3</td>\n",
       "      <td>971</td>\n",
       "      <td>1.779661</td>\n",
       "      <td>254.372</td>\n",
       "    </tr>\n",
       "    <tr>\n",
       "      <th>1697</th>\n",
       "      <td>4</td>\n",
       "      <td>480</td>\n",
       "      <td>0.715909</td>\n",
       "      <td>73.950</td>\n",
       "    </tr>\n",
       "    <tr>\n",
       "      <th>1698</th>\n",
       "      <td>3</td>\n",
       "      <td>103</td>\n",
       "      <td>21.800000</td>\n",
       "      <td>14.905</td>\n",
       "    </tr>\n",
       "    <tr>\n",
       "      <th>1699</th>\n",
       "      <td>8</td>\n",
       "      <td>861</td>\n",
       "      <td>3.532468</td>\n",
       "      <td>178.077</td>\n",
       "    </tr>\n",
       "  </tbody>\n",
       "</table>\n",
       "<p>1700 rows × 4 columns</p>\n",
       "</div>"
      ],
      "text/plain": [
       "      invoice_count  total_products  avg_purchase_frequency  avg_spend_ttm\n",
       "0                 1             666                0.000000         31.062\n",
       "1                 5             983                0.526316        246.317\n",
       "2                 4             319                6.851852         54.430\n",
       "3                29            2278                3.159292        802.502\n",
       "4                 6             841                6.224138        140.034\n",
       "...             ...             ...                     ...            ...\n",
       "1695              5            1167                1.852632        143.885\n",
       "1696              3             971                1.779661        254.372\n",
       "1697              4             480                0.715909         73.950\n",
       "1698              3             103               21.800000         14.905\n",
       "1699              8             861                3.532468        178.077\n",
       "\n",
       "[1700 rows x 4 columns]"
      ]
     },
     "execution_count": 4,
     "metadata": {},
     "output_type": "execute_result"
    }
   ],
   "source": [
    "final_data = data.iloc[:,1:5]\n",
    "final_data"
   ]
  },
  {
   "cell_type": "code",
   "execution_count": 5,
   "metadata": {},
   "outputs": [
    {
     "data": {
      "image/png": "[encoded data removed]",
      "text/plain": [
       "<Figure size 576x432 with 2 Axes>"
      ]
     },
     "metadata": {
      "needs_background": "light"
     },
     "output_type": "display_data"
    }
   ],
   "source": [
    "import seaborn as sns\n",
    "# Visualize the feature correlations\n",
    "    # You can compute the correlation among features and display a heat-map of the matrix \n",
    "    # OR use sns scatter or pairplot\n",
    "correlation=final_data.corr()\n",
    "fig, ax = plt.subplots(figsize=(8, 6))\n",
    "sns.heatmap(correlation, ax=ax)\n",
    "plt.show()"
   ]
  },
  {
   "cell_type": "code",
   "execution_count": 6,
   "metadata": {},
   "outputs": [],
   "source": [
    "def visualize_float_columns():\n",
    "    '''\n",
    "    This function visualizes Box-and-whisker plots for continuous variables\n",
    "    '''\n",
    "    \n",
    "    # FLoat columns\n",
    "    for i in final_data.columns:\n",
    "        sns.displot(final_data[i])\n",
    "\n",
    "        plt.show()"
   ]
  },
  {
   "cell_type": "code",
   "execution_count": 7,
   "metadata": {},
   "outputs": [
    {
     "data": {
      "text/plain": [
       "'0.11.0'"
      ]
     },
     "execution_count": 7,
     "metadata": {},
     "output_type": "execute_result"
    }
   ],
   "source": [
    "sns.__version__"
   ]
  },
  {
   "cell_type": "code",
   "execution_count": 8,
   "metadata": {},
   "outputs": [
    {
     "data": {
      "image/png": "[encoded data removed]",
      "text/plain": [
       "<Figure size 360x360 with 1 Axes>"
      ]
     },
     "metadata": {
      "needs_background": "light"
     },
     "output_type": "display_data"
    },
    {
     "data": {
      "image/png": "[encoded data removed]",
      "text/plain": [
       "<Figure size 360x360 with 1 Axes>"
      ]
     },
     "metadata": {
      "needs_background": "light"
     },
     "output_type": "display_data"
    },
    {
     "data": {
      "image/png": "[encoded data removed]",
      "text/plain": [
       "<Figure size 360x360 with 1 Axes>"
      ]
     },
     "metadata": {
      "needs_background": "light"
     },
     "output_type": "display_data"
    },
    {
     "data": {
      "image/png": "[encoded data removed]",
      "text/plain": [
       "<Figure size 360x360 with 1 Axes>"
      ]
     },
     "metadata": {
      "needs_background": "light"
     },
     "output_type": "display_data"
    }
   ],
   "source": [
    "visualize_float_columns()"
   ]
  },
  {
   "cell_type": "code",
   "execution_count": 47,
   "metadata": {},
   "outputs": [],
   "source": [
    "X = pd.DataFrame(data.iloc[:, 1:5])\n",
    "y = data.loc[:, 'label']\n",
    "\n",
    "x_train, x_test, y_train, y_test = train_test_split(X, y, test_size = 0.3, random_state = 100)\n",
    "\n"
   ]
  },
  {
   "cell_type": "code",
   "execution_count": 48,
   "metadata": {},
   "outputs": [],
   "source": [
    "sm = SMOTE(random_state=42)\n",
    "X_res, y_res = sm.fit_resample(x_train, y_train)"
   ]
  },
  {
   "cell_type": "code",
   "execution_count": 42,
   "metadata": {},
   "outputs": [
    {
     "name": "stdout",
     "output_type": "stream",
     "text": [
      "LogisticRegression(C=1.0, class_weight='balanced', dual=False,\n",
      "                   fit_intercept=True, intercept_scaling=1, l1_ratio=None,\n",
      "                   max_iter=100, multi_class='auto', n_jobs=None, penalty='l2',\n",
      "                   random_state=0, solver='liblinear', tol=0.0001, verbose=0,\n",
      "                   warm_start=False)\n"
     ]
    }
   ],
   "source": [
    "model = LogisticRegression(random_state = 0, solver = 'liblinear', penalty = 'l2', class_weight = 'balanced')\n",
    "cv_parameters = {'C' : [10.**c for c in np.arange(-5., 5.)]}\n",
    "clf = GridSearchCV(model, cv_parameters)\n",
    "clf.fit(X_res, y_res)\n",
    "best_model = clf.best_estimator_\n",
    "print(best_model)\n"
   ]
  },
  {
   "cell_type": "code",
   "execution_count": 49,
   "metadata": {},
   "outputs": [],
   "source": [
    "model = LogisticRegression(random_state = 0, solver = 'liblinear', penalty = 'l2', class_weight = 'balanced')"
   ]
  },
  {
   "cell_type": "code",
   "execution_count": 50,
   "metadata": {},
   "outputs": [
    {
     "data": {
      "text/plain": [
       "LogisticRegression(C=1.0, class_weight='balanced', dual=False,\n",
       "                   fit_intercept=True, intercept_scaling=1, l1_ratio=None,\n",
       "                   max_iter=100, multi_class='auto', n_jobs=None, penalty='l2',\n",
       "                   random_state=0, solver='liblinear', tol=0.0001, verbose=0,\n",
       "                   warm_start=False)"
      ]
     },
     "execution_count": 50,
     "metadata": {},
     "output_type": "execute_result"
    }
   ],
   "source": [
    "model.fit(X_res, y_res)"
   ]
  },
  {
   "cell_type": "code",
   "execution_count": 51,
   "metadata": {},
   "outputs": [
    {
     "data": {
      "text/plain": [
       "array([1, 1, 1, 0, 1, 1, 0, 1, 1, 1, 0, 0, 0, 1, 1, 1, 1, 1, 0, 1, 0, 0,\n",
       "       1, 1, 1, 1, 1, 1, 1, 0, 0, 1, 1, 1, 1, 1, 1, 1, 0, 0, 0, 0, 0, 1,\n",
       "       1, 0, 1, 0, 1, 1, 1, 0, 1, 1, 1, 1, 1, 0, 1, 0, 1, 0, 0, 1, 1, 1,\n",
       "       1, 1, 1, 0, 1, 1, 1, 1, 0, 1, 1, 0, 0, 0, 1, 1, 0, 0, 0, 0, 0, 1,\n",
       "       0, 0, 0, 0, 0, 0, 0, 0, 1, 1, 0, 0, 1, 0, 1, 1, 1, 0, 1, 1, 1, 1,\n",
       "       1, 0, 0, 1, 0, 0, 1, 1, 0, 0, 0, 1, 1, 0, 0, 0, 1, 0, 1, 1, 1, 1,\n",
       "       1, 0, 1, 1, 1, 1, 0, 0, 0, 1, 0, 0, 0, 0, 0, 0, 0, 1, 0, 1, 0, 0,\n",
       "       0, 1, 0, 1, 0, 0, 0, 1, 0, 1, 0, 0, 1, 1, 1, 1, 0, 1, 1, 1, 1, 0,\n",
       "       0, 0, 1, 1, 1, 1, 1, 0, 0, 0, 1, 1, 1, 0, 0, 1, 1, 1, 1, 0, 0, 0,\n",
       "       1, 0, 0, 0, 1, 1, 1, 1, 1, 1, 1, 1, 0, 1, 1, 0, 0, 0, 0, 0, 1, 1,\n",
       "       0, 1, 1, 1, 0, 1, 1, 1, 0, 1, 1, 0, 0, 0, 0, 0, 0, 1, 1, 0, 0, 1,\n",
       "       0, 1, 0, 0, 1, 1, 1, 0, 1, 1, 1, 0, 1, 0, 0, 1, 1, 0, 0, 0, 1, 0,\n",
       "       0, 1, 1, 0, 0, 0, 1, 1, 0, 0, 1, 0, 0, 1, 1, 1, 1, 1, 0, 1, 1, 1,\n",
       "       0, 0, 1, 1, 1, 0, 0, 1, 0, 0, 1, 1, 1, 1, 0, 1, 0, 0, 0, 0, 1, 0,\n",
       "       1, 1, 1, 1, 1, 1, 0, 0, 0, 1, 1, 1, 0, 1, 0, 1, 1, 1, 1, 1, 1, 1,\n",
       "       0, 1, 1, 1, 1, 1, 0, 1, 1, 0, 1, 0, 1, 1, 0, 0, 1, 0, 1, 1, 1, 1,\n",
       "       0, 0, 1, 0, 1, 1, 0, 1, 0, 1, 0, 1, 1, 1, 0, 1, 1, 0, 0, 0, 1, 0,\n",
       "       0, 1, 1, 0, 0, 1, 0, 1, 1, 0, 1, 1, 1, 0, 0, 0, 1, 0, 0, 1, 1, 1,\n",
       "       0, 1, 0, 1, 0, 0, 1, 1, 1, 0, 1, 0, 0, 1, 0, 1, 1, 1, 0, 0, 0, 0,\n",
       "       1, 0, 0, 0, 0, 1, 1, 1, 0, 1, 0, 1, 0, 0, 0, 0, 1, 0, 0, 0, 1, 1,\n",
       "       0, 1, 0, 1, 1, 0, 0, 1, 0, 0, 1, 1, 1, 1, 0, 0, 1, 1, 1, 1, 0, 1,\n",
       "       1, 1, 1, 0, 1, 0, 1, 1, 1, 0, 1, 0, 0, 0, 1, 0, 1, 0, 1, 1, 1, 0,\n",
       "       1, 1, 0, 1, 0, 1, 1, 1, 0, 1, 0, 0, 1, 1, 1, 1, 0, 0, 0, 1, 1, 1,\n",
       "       1, 0, 1, 0], dtype=int64)"
      ]
     },
     "execution_count": 51,
     "metadata": {},
     "output_type": "execute_result"
    }
   ],
   "source": [
    "y_pred = model.predict(x_test)\n",
    "y_pred"
   ]
  },
  {
   "cell_type": "code",
   "execution_count": 52,
   "metadata": {},
   "outputs": [
    {
     "data": {
      "text/plain": [
       "0.44901960784313727"
      ]
     },
     "execution_count": 52,
     "metadata": {},
     "output_type": "execute_result"
    }
   ],
   "source": [
    "accuracy_score(y_test, y_pred)"
   ]
  },
  {
   "cell_type": "code",
   "execution_count": 43,
   "metadata": {},
   "outputs": [
    {
     "data": {
      "text/plain": [
       "array([6.49558523e-01, 6.17646152e-01, 5.69427254e-01, 4.96005532e-01,\n",
       "       6.55383641e-01, 6.10197445e-01, 3.58525506e-03, 6.01056435e-01,\n",
       "       6.72473004e-01, 5.30433089e-01, 3.86367812e-01, 4.17588921e-01,\n",
       "       4.73294240e-01, 6.47005909e-01, 6.06288857e-01, 5.55420746e-01,\n",
       "       5.38501841e-01, 6.03657634e-01, 1.46483658e-01, 6.56448042e-01,\n",
       "       1.64926434e-01, 3.12122243e-03, 5.84717965e-01, 6.13094897e-01,\n",
       "       5.27000208e-01, 5.31844168e-01, 6.02920955e-01, 6.39779873e-01,\n",
       "       6.48991538e-01, 1.28566958e-01, 5.40967922e-01, 6.53081911e-01,\n",
       "       5.75942879e-01, 5.97554426e-01, 6.77475509e-01, 5.61341860e-01,\n",
       "       6.16481752e-01, 5.36099888e-01, 3.85651558e-01, 4.63605354e-01,\n",
       "       5.23155727e-01, 4.36540113e-01, 4.69087675e-01, 5.00091992e-01,\n",
       "       4.82296935e-01, 1.79589510e-01, 5.70113273e-01, 4.23141080e-01,\n",
       "       5.86925983e-01, 5.06195584e-01, 6.26473565e-01, 1.54881151e-02,\n",
       "       6.53441476e-01, 5.64347520e-01, 5.93277529e-01, 6.95292668e-01,\n",
       "       6.21383495e-01, 4.62288713e-01, 6.27942560e-01, 4.05280382e-01,\n",
       "       5.66608930e-01, 3.49175468e-01, 1.87848829e-01, 6.95742095e-01,\n",
       "       5.85486390e-01, 6.26722836e-01, 4.89618060e-01, 6.70636854e-01,\n",
       "       6.54696293e-01, 3.15935110e-01, 5.41329622e-01, 5.43072318e-01,\n",
       "       6.91831780e-01, 6.87522951e-01, 4.29749625e-01, 6.57473433e-01,\n",
       "       6.47263382e-01, 5.01048084e-01, 3.73723424e-01, 4.74585025e-01,\n",
       "       5.15747745e-01, 5.37774791e-01, 3.06793591e-01, 1.46177829e-07,\n",
       "       2.08551722e-01, 4.97545972e-01, 5.59680235e-13, 7.46823034e-01,\n",
       "       4.86076340e-03, 3.41642281e-01, 4.93449934e-01, 3.62261340e-01,\n",
       "       4.92553824e-01, 5.04043340e-01, 1.41013932e-01, 4.19096323e-01,\n",
       "       6.18159938e-01, 5.19245201e-01, 5.22288242e-01, 1.64335201e-04,\n",
       "       5.61281562e-01, 1.90928426e-01, 6.54368921e-01, 6.33531582e-01,\n",
       "       5.42138623e-01, 7.72270408e-03, 5.06214508e-01, 5.53614879e-01,\n",
       "       6.66986135e-01, 5.76222593e-01, 5.09341315e-01, 5.13530608e-01,\n",
       "       4.20671689e-01, 6.54129583e-01, 6.66030706e-02, 4.10960534e-01,\n",
       "       6.10183879e-01, 5.02184763e-01, 4.02184466e-01, 4.08317226e-01,\n",
       "       1.16101106e-01, 6.33805653e-01, 5.76285152e-01, 3.79102773e-01,\n",
       "       2.39110597e-01, 1.03573491e-01, 5.86574867e-01, 4.67755815e-01,\n",
       "       6.38429605e-01, 5.83904381e-01, 6.79419203e-01, 6.24826403e-01,\n",
       "       5.68223257e-01, 4.93080835e-01, 6.38176528e-01, 5.05084074e-01,\n",
       "       6.27983202e-01, 6.52293224e-01, 4.64253741e-01, 3.96932133e-01,\n",
       "       4.82545450e-01, 6.09663460e-01, 4.32132021e-01, 4.65620371e-01,\n",
       "       6.23421630e-02, 3.84141419e-01, 4.90607815e-01, 4.28930174e-01,\n",
       "       1.56522237e-01, 5.32338775e-01, 3.75867667e-01, 6.24487307e-01,\n",
       "       4.75816503e-01, 2.19093479e-01, 4.76222014e-01, 5.68847304e-01,\n",
       "       2.17360727e-01, 6.74805780e-01, 4.57970321e-01, 4.94114716e-01,\n",
       "       4.67297069e-01, 5.46823669e-01, 3.96435512e-01, 6.24413326e-01,\n",
       "       1.99972943e-01, 8.43959624e-06, 5.54025419e-01, 6.73584868e-01,\n",
       "       6.26415533e-01, 5.42871233e-01, 4.06564114e-01, 5.93646231e-01,\n",
       "       6.06903396e-01, 6.66968958e-01, 5.59256729e-01, 4.21810353e-01,\n",
       "       1.31017665e-01, 5.09418300e-01, 6.74024767e-01, 5.86486086e-01,\n",
       "       5.83736205e-01, 6.53026091e-01, 5.43802611e-01, 1.57677222e-09,\n",
       "       4.35172082e-01, 3.00452939e-01, 6.43914583e-01, 6.65735359e-01,\n",
       "       5.23069992e-01, 4.60924138e-01, 3.96972778e-01, 6.37211418e-01,\n",
       "       5.77755680e-01, 6.43544644e-01, 5.84404069e-01, 4.55581164e-01,\n",
       "       2.72256774e-01, 1.97815702e-01, 6.54666991e-01, 3.03905422e-01,\n",
       "       5.11828466e-01, 3.12725728e-01, 6.71658774e-01, 6.17388632e-01,\n",
       "       6.99466155e-01, 6.50694709e-01, 5.89691861e-01, 5.69978692e-01,\n",
       "       5.82124658e-01, 6.15422065e-01, 2.29440506e-01, 6.34661394e-01,\n",
       "       6.25057025e-01, 3.68205825e-01, 3.42999487e-01, 3.34570181e-01,\n",
       "       4.82167319e-01, 4.16927232e-01, 6.29387312e-01, 5.14955817e-01,\n",
       "       4.06204220e-01, 6.07281122e-01, 5.26968938e-01, 5.11464507e-01,\n",
       "       5.21750756e-01, 6.40207591e-01, 6.36752393e-01, 6.66342530e-01,\n",
       "       2.50520580e-01, 6.27109473e-01, 6.59975415e-01, 2.33337827e-01,\n",
       "       2.69773332e-01, 4.86693186e-01, 3.56872290e-01, 2.97007423e-01,\n",
       "       3.10952295e-01, 6.31578969e-01, 6.10897913e-01, 1.41500275e-01,\n",
       "       2.28779627e-06, 5.77002692e-01, 4.02237644e-01, 6.35838726e-01,\n",
       "       1.28342574e-01, 4.52972679e-02, 4.98678877e-01, 5.93973098e-01,\n",
       "       6.74878848e-01, 1.58858995e-01, 6.28665747e-01, 6.50419775e-01,\n",
       "       5.76935565e-01, 3.86855775e-03, 5.58563086e-01, 3.02200318e-01,\n",
       "       6.40298575e-21, 5.68311115e-01, 6.33072829e-01, 2.72442690e-01,\n",
       "       4.14298474e-01, 4.03259091e-05, 6.21947891e-01, 2.70597709e-01,\n",
       "       2.30842828e-01, 6.61522739e-01, 4.84904285e-01, 5.07715640e-01,\n",
       "       6.64828545e-04, 3.91324657e-01, 5.05385856e-01, 6.32229119e-01,\n",
       "       1.13646987e-02, 4.21993988e-01, 5.92454890e-01, 2.93982643e-02,\n",
       "       2.55916284e-01, 6.59514982e-01, 5.93660318e-01, 6.24590695e-01,\n",
       "       6.65012388e-01, 5.26372222e-01, 4.64117478e-02, 6.19924124e-01,\n",
       "       5.34428285e-01, 6.69597959e-01, 3.01231090e-01, 4.27316909e-01,\n",
       "       6.55818191e-01, 6.34251618e-01, 6.52697984e-01, 4.66049620e-01,\n",
       "       9.55265468e-02, 5.88763319e-01, 2.03226203e-01, 4.25723623e-01,\n",
       "       6.61511096e-01, 5.59594450e-01, 6.73884795e-01, 5.65182142e-01,\n",
       "       5.41462017e-01, 5.90161560e-01, 4.04355445e-01, 3.58250508e-01,\n",
       "       3.03168343e-02, 4.08005787e-01, 5.71786954e-01, 3.39547386e-01,\n",
       "       6.59404315e-01, 5.73965294e-01, 5.69361161e-01, 6.27634965e-01,\n",
       "       5.83699708e-01, 5.17553611e-01, 4.31658047e-01, 3.78520995e-01,\n",
       "       2.88935467e-01, 5.52220614e-01, 6.21207748e-01, 6.00394210e-01,\n",
       "       5.23578672e-01, 5.71456654e-01, 4.05514721e-01, 5.69338454e-01,\n",
       "       5.71847063e-01, 5.99782244e-01, 6.33830482e-01, 6.77668778e-01,\n",
       "       6.65243504e-01, 5.17784070e-01, 3.56529240e-01, 4.99190840e-01,\n",
       "       6.93089544e-01, 6.48633539e-01, 6.26784133e-01, 6.83423363e-01,\n",
       "       2.82811825e-01, 6.86772382e-01, 6.37379993e-01, 2.46417272e-01,\n",
       "       5.31266061e-01, 4.39738801e-01, 6.30686647e-01, 6.00560381e-01,\n",
       "       1.41214588e-02, 3.66642950e-04, 5.12389964e-01, 4.91360072e-01,\n",
       "       5.30652237e-01, 5.80123807e-01, 6.01553638e-01, 6.02476738e-01,\n",
       "       1.27328870e-01, 1.01015957e-02, 5.31629217e-01, 4.76000321e-01,\n",
       "       5.86496154e-01, 5.40086367e-01, 4.80410473e-01, 6.32188426e-01,\n",
       "       5.08933339e-04, 5.29105194e-01, 3.98245916e-01, 5.96048057e-01,\n",
       "       5.65282241e-01, 6.23144823e-01, 4.74051612e-01, 6.47783254e-01,\n",
       "       5.92470134e-01, 4.33357747e-01, 4.65429670e-01, 5.00865207e-01,\n",
       "       5.80675848e-01, 2.09260302e-01, 4.38530034e-01, 6.42985460e-01,\n",
       "       6.14863112e-01, 4.30714866e-01, 4.43920612e-01, 5.98118287e-01,\n",
       "       3.75746596e-01, 6.00481212e-01, 5.61865129e-01, 4.65807337e-01,\n",
       "       7.89036634e-01, 8.52354694e-01, 6.08784511e-01, 3.88443567e-01,\n",
       "       3.06272591e-07, 3.58618380e-01, 5.60141042e-01, 3.99070000e-01,\n",
       "       3.08336719e-01, 5.79525580e-01, 5.98879971e-01, 5.84769658e-01,\n",
       "       3.00120296e-01, 5.07663829e-01, 3.65743173e-01, 4.84140913e-01,\n",
       "       3.88122984e-01, 3.21868704e-01, 5.61269236e-01, 6.17706554e-01,\n",
       "       5.62325279e-01, 2.74922713e-01, 6.46969144e-01, 2.15923135e-01,\n",
       "       1.10114493e-21, 6.51819736e-01, 5.08579321e-01, 5.49962918e-01,\n",
       "       5.79010326e-01, 6.18829205e-01, 3.74802920e-01, 3.46289659e-01,\n",
       "       1.17050969e-01, 2.54417073e-01, 5.36966901e-01, 4.27763602e-02,\n",
       "       3.58143807e-01, 2.45374533e-01, 1.98894393e-01, 5.33719597e-01,\n",
       "       5.79503648e-01, 6.00157406e-01, 3.54693691e-01, 6.73281670e-01,\n",
       "       1.20719901e-07, 5.18569751e-01, 3.39936518e-02, 5.03456047e-01,\n",
       "       5.11559670e-01, 3.09065637e-01, 5.69222045e-01, 9.06291739e-02,\n",
       "       4.48339661e-01, 1.93667762e-01, 5.79194191e-01, 6.36646475e-01,\n",
       "       4.50648371e-01, 5.65853131e-01, 9.74265494e-03, 6.59796072e-01,\n",
       "       6.92163406e-01, 1.08338916e-03, 8.28083648e-02, 5.39870601e-01,\n",
       "       2.89018298e-04, 3.37443979e-01, 6.32799575e-01, 5.90261995e-01,\n",
       "       6.90875162e-01, 5.90299180e-01, 1.66241833e-02, 4.60522600e-01,\n",
       "       5.51032054e-01, 6.41068801e-01, 6.37609124e-01, 5.91292720e-01,\n",
       "       2.91947464e-01, 6.69215999e-01, 7.35536558e-01, 6.34343393e-01,\n",
       "       6.52001009e-01, 4.18722310e-01, 6.35013776e-01, 3.97290353e-01,\n",
       "       6.59028448e-01, 6.56997059e-01, 5.65609884e-01, 4.19365951e-01,\n",
       "       5.58130029e-01, 4.07955622e-01, 2.73518657e-01, 1.87986373e-07,\n",
       "       6.49750121e-01, 3.32148942e-01, 5.11332061e-01, 4.66999033e-01,\n",
       "       6.64312190e-01, 5.03785637e-01, 6.31695888e-01, 2.03401920e-01,\n",
       "       5.69952475e-01, 5.25633160e-01, 2.96525040e-01, 6.62274644e-01,\n",
       "       3.07985066e-01, 5.30362281e-01, 6.82968469e-01, 6.68915378e-01,\n",
       "       2.19745288e-01, 6.85264940e-01, 3.59548659e-01, 6.19092480e-04,\n",
       "       5.62534916e-01, 5.30413206e-01, 5.27296189e-01, 6.10647899e-01,\n",
       "       4.23330382e-01, 3.63718380e-01, 2.50042371e-01, 5.97465685e-01,\n",
       "       5.67231181e-01, 5.94424038e-01, 6.35322512e-01, 4.49567867e-01,\n",
       "       5.51664194e-01, 4.52078853e-01])"
      ]
     },
     "execution_count": 43,
     "metadata": {},
     "output_type": "execute_result"
    }
   ],
   "source": [
    "y_pred_probs = best_model.predict_proba(x_test)[:,1]\n",
    "y_pred_probs"
   ]
  },
  {
   "cell_type": "code",
   "execution_count": 44,
   "metadata": {},
   "outputs": [
    {
     "data": {
      "text/plain": [
       "Text(0.5, 0, 'False Positive Rate')"
      ]
     },
     "execution_count": 44,
     "metadata": {},
     "output_type": "execute_result"
    },
    {
     "data": {
      "image/png": "[encoded data removed]",
      "text/plain": [
       "<Figure size 432x288 with 1 Axes>"
      ]
     },
     "metadata": {
      "needs_background": "light"
     },
     "output_type": "display_data"
    }
   ],
   "source": [
    "fpr, tpr, thresholds = roc_curve(y_test, y_pred_probs)\n",
    "plt.title(\"ROC Curve (AUC = %0.2f)\"% roc_auc_score(y_test, y_pred_probs))\n",
    "plt.plot(fpr, tpr, 'b')\n",
    "plt.plot([0,1],[0,1],'r--')\n",
    "plt.xlim([0,1]); plt.ylim([0,1])\n",
    "plt.ylabel('True Positive Rate')\n",
    "plt.xlabel('False Positive Rate')"
   ]
  },
  {
   "cell_type": "code",
   "execution_count": 45,
   "metadata": {},
   "outputs": [
    {
     "data": {
      "text/plain": [
       "array([1, 1, 1, 0, 1, 1, 0, 1, 1, 1, 0, 0, 0, 1, 1, 1, 1, 1, 0, 1, 0, 0,\n",
       "       1, 1, 1, 1, 1, 1, 1, 0, 1, 1, 1, 1, 1, 1, 1, 1, 0, 0, 1, 0, 0, 1,\n",
       "       0, 0, 1, 0, 1, 1, 1, 0, 1, 1, 1, 1, 1, 0, 1, 0, 1, 0, 0, 1, 1, 1,\n",
       "       0, 1, 1, 0, 1, 1, 1, 1, 0, 1, 1, 1, 0, 0, 1, 1, 0, 0, 0, 0, 0, 1,\n",
       "       0, 0, 0, 0, 0, 1, 0, 0, 1, 1, 1, 0, 1, 0, 1, 1, 1, 0, 1, 1, 1, 1,\n",
       "       1, 1, 0, 1, 0, 0, 1, 1, 0, 0, 0, 1, 1, 0, 0, 0, 1, 0, 1, 1, 1, 1,\n",
       "       1, 0, 1, 1, 1, 1, 0, 0, 0, 1, 0, 0, 0, 0, 0, 0, 0, 1, 0, 1, 0, 0,\n",
       "       0, 1, 0, 1, 0, 0, 0, 1, 0, 1, 0, 0, 1, 1, 1, 1, 0, 1, 1, 1, 1, 0,\n",
       "       0, 1, 1, 1, 1, 1, 1, 0, 0, 0, 1, 1, 1, 0, 0, 1, 1, 1, 1, 0, 0, 0,\n",
       "       1, 0, 1, 0, 1, 1, 1, 1, 1, 1, 1, 1, 0, 1, 1, 0, 0, 0, 0, 0, 1, 1,\n",
       "       0, 1, 1, 1, 1, 1, 1, 1, 0, 1, 1, 0, 0, 0, 0, 0, 0, 1, 1, 0, 0, 1,\n",
       "       0, 1, 0, 0, 0, 1, 1, 0, 1, 1, 1, 0, 1, 0, 0, 1, 1, 0, 0, 0, 1, 0,\n",
       "       0, 1, 0, 1, 0, 0, 1, 1, 0, 0, 1, 0, 0, 1, 1, 1, 1, 1, 0, 1, 1, 1,\n",
       "       0, 0, 1, 1, 1, 0, 0, 1, 0, 0, 1, 1, 1, 1, 1, 1, 0, 0, 0, 0, 1, 0,\n",
       "       1, 1, 1, 1, 1, 1, 0, 0, 0, 1, 1, 1, 1, 1, 0, 1, 1, 1, 1, 1, 1, 1,\n",
       "       0, 0, 1, 1, 1, 1, 0, 1, 1, 0, 1, 0, 1, 1, 0, 0, 1, 0, 1, 1, 1, 1,\n",
       "       0, 0, 1, 0, 1, 1, 0, 1, 0, 1, 0, 1, 1, 1, 0, 1, 1, 0, 0, 1, 1, 0,\n",
       "       0, 1, 1, 0, 0, 1, 0, 1, 1, 0, 1, 1, 1, 0, 0, 0, 1, 0, 0, 1, 1, 1,\n",
       "       0, 1, 0, 0, 0, 0, 1, 1, 1, 0, 1, 0, 0, 1, 1, 1, 1, 1, 0, 0, 0, 0,\n",
       "       1, 0, 0, 0, 0, 1, 1, 1, 0, 1, 0, 1, 0, 1, 1, 0, 1, 0, 0, 0, 1, 1,\n",
       "       0, 1, 0, 1, 1, 0, 0, 1, 0, 0, 1, 1, 1, 1, 0, 0, 1, 1, 1, 1, 0, 1,\n",
       "       1, 1, 1, 0, 1, 0, 1, 1, 1, 0, 1, 0, 0, 0, 1, 0, 1, 0, 1, 1, 1, 0,\n",
       "       1, 1, 0, 1, 0, 1, 1, 1, 0, 1, 0, 0, 1, 1, 1, 1, 0, 0, 0, 1, 1, 1,\n",
       "       1, 0, 1, 0], dtype=int64)"
      ]
     },
     "execution_count": 45,
     "metadata": {},
     "output_type": "execute_result"
    }
   ],
   "source": [
    "y_pred =  best_model.predict(x_test)\n",
    "y_pred\n"
   ]
  },
  {
   "cell_type": "code",
   "execution_count": 46,
   "metadata": {},
   "outputs": [
    {
     "data": {
      "text/plain": [
       "0.4294117647058823"
      ]
     },
     "execution_count": 46,
     "metadata": {},
     "output_type": "execute_result"
    }
   ],
   "source": [
    "accuracy_score(y_test, y_pred)"
   ]
  },
  {
   "cell_type": "code",
   "execution_count": null,
   "metadata": {},
   "outputs": [],
   "source": []
  }
 ],
 "metadata": {
  "kernelspec": {
   "display_name": "Python 3",
   "language": "python",
   "name": "python3"
  },
  "language_info": {
   "codemirror_mode": {
    "name": "ipython",
    "version": 3
   },
   "file_extension": ".py",
   "mimetype": "text/x-python",
   "name": "python",
   "nbconvert_exporter": "python",
   "pygments_lexer": "ipython3",
   "version": "3.6.5"
  }
 },
 "nbformat": 4,
 "nbformat_minor": 4
}
