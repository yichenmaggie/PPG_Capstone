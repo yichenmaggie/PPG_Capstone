{
 "cells": [
  {
   "cell_type": "code",
   "execution_count": 2,
   "metadata": {},
   "outputs": [],
   "source": [
    "import pandas as pd\n",
    "ppg_data = pd.read_csv(\"/Users/jingyan/Desktop/capstone/CMU_resample.csv\")\n",
    "features=ppg_data.iloc[:,1:-1]\n",
    "label = ppg_data.iloc[:,-1]"
   ]
  },
  {
   "cell_type": "code",
   "execution_count": 3,
   "metadata": {},
   "outputs": [],
   "source": [
    "import numpy as np\n",
    "labels = np.array(label)\n",
    "feature_list = list(features.columns)\n",
    "features = np.array(features)"
   ]
  },
  {
   "cell_type": "code",
   "execution_count": 4,
   "metadata": {},
   "outputs": [],
   "source": [
    "from sklearn.model_selection import train_test_split\n",
    "train_features, test_features, train_labels, test_labels = train_test_split(features, labels, test_size = 0.3, random_state = 42)"
   ]
  },
  {
   "cell_type": "code",
   "execution_count": 5,
   "metadata": {},
   "outputs": [],
   "source": [
    "from imblearn.over_sampling import SMOTE\n",
    "smt = SMOTE()\n",
    "train_features, train_labels = smt.fit_sample(train_features, train_labels)"
   ]
  },
  {
   "cell_type": "code",
   "execution_count": 92,
   "metadata": {},
   "outputs": [
    {
     "name": "stdout",
     "output_type": "stream",
     "text": [
      "Fitting 3 folds for each of 500 candidates, totalling 1500 fits\n"
     ]
    },
    {
     "name": "stderr",
     "output_type": "stream",
     "text": [
      "[Parallel(n_jobs=-1)]: Using backend LokyBackend with 4 concurrent workers.\n",
      "[Parallel(n_jobs=-1)]: Done  42 tasks      | elapsed:   31.3s\n",
      "[Parallel(n_jobs=-1)]: Done 192 tasks      | elapsed:  2.5min\n",
      "[Parallel(n_jobs=-1)]: Done 442 tasks      | elapsed:  6.4min\n",
      "[Parallel(n_jobs=-1)]: Done 792 tasks      | elapsed: 12.9min\n",
      "[Parallel(n_jobs=-1)]: Done 1242 tasks      | elapsed: 19.4min\n",
      "[Parallel(n_jobs=-1)]: Done 1500 out of 1500 | elapsed: 23.2min finished\n"
     ]
    }
   ],
   "source": [
    "# n_estimators = [100, 300, 500, 800, 1200]\n",
    "# max_depth = [5, 8, 15, 25, 30]\n",
    "# min_samples_split = [2, 5, 10, 15, 100]\n",
    "# min_samples_leaf = [1, 2, 5, 10] \n",
    "\n",
    "# rf = RandomForestClassifier()\n",
    "\n",
    "# hyperF = dict(n_estimators = n_estimators, max_depth = max_depth,  \n",
    "#               min_samples_split = min_samples_split, \n",
    "#              min_samples_leaf = min_samples_leaf)\n",
    "\n",
    "# gridF = GridSearchCV(rf, hyperF, cv = 3, verbose = 1, \n",
    "#                       n_jobs = -1)\n",
    "# bestF = gridF.fit(train_features, train_labels)"
   ]
  },
  {
   "cell_type": "code",
   "execution_count": 6,
   "metadata": {},
   "outputs": [
    {
     "ename": "NameError",
     "evalue": "name 'gridF' is not defined",
     "output_type": "error",
     "traceback": [
      "\u001b[0;31m---------------------------------------------------------------------------\u001b[0m",
      "\u001b[0;31mNameError\u001b[0m                                 Traceback (most recent call last)",
      "\u001b[0;32m<ipython-input-6-557fc9078944>\u001b[0m in \u001b[0;36m<module>\u001b[0;34m\u001b[0m\n\u001b[0;32m----> 1\u001b[0;31m \u001b[0mgridF\u001b[0m\u001b[0;34m.\u001b[0m\u001b[0mbest_params_\u001b[0m\u001b[0;34m\u001b[0m\u001b[0;34m\u001b[0m\u001b[0m\n\u001b[0m",
      "\u001b[0;31mNameError\u001b[0m: name 'gridF' is not defined"
     ]
    }
   ],
   "source": [
    "gridF.best_params_"
   ]
  },
  {
   "cell_type": "code",
   "execution_count": 8,
   "metadata": {},
   "outputs": [
    {
     "data": {
      "text/plain": [
       "RandomForestClassifier(max_depth=25)"
      ]
     },
     "execution_count": 8,
     "metadata": {},
     "output_type": "execute_result"
    }
   ],
   "source": [
    "from sklearn.ensemble import RandomForestClassifier\n",
    "rf = RandomForestClassifier(n_estimators = 100, max_depth=25,\n",
    " min_samples_leaf =1, min_samples_split=2)\n",
    "\n",
    "rf.fit(train_features, train_labels)"
   ]
  },
  {
   "cell_type": "code",
   "execution_count": 12,
   "metadata": {},
   "outputs": [
    {
     "name": "stdout",
     "output_type": "stream",
     "text": [
      "[0.39179845 0.25563638 0.18521829 0.16734688]\n"
     ]
    }
   ],
   "source": [
    "print(rf.feature_importances_)"
   ]
  },
  {
   "cell_type": "code",
   "execution_count": 9,
   "metadata": {},
   "outputs": [],
   "source": [
    "predictions = rf.predict(test_features)"
   ]
  },
  {
   "cell_type": "code",
   "execution_count": 10,
   "metadata": {},
   "outputs": [
    {
     "name": "stdout",
     "output_type": "stream",
     "text": [
      "0.9098039215686274\n",
      "0.2903225806451613\n"
     ]
    }
   ],
   "source": [
    "from sklearn.metrics import accuracy_score,recall_score,classification_report\n",
    "print(accuracy_score(test_labels, predictions))\n",
    "print(recall_score(test_labels, predictions))"
   ]
  },
  {
   "cell_type": "code",
   "execution_count": 11,
   "metadata": {},
   "outputs": [
    {
     "name": "stdout",
     "output_type": "stream",
     "text": [
      "              precision    recall  f1-score   support\n",
      "\n",
      "  No default     0.9539    0.9499    0.9519       479\n",
      "     Default     0.2727    0.2903    0.2812        31\n",
      "\n",
      "    accuracy                         0.9098       510\n",
      "   macro avg     0.6133    0.6201    0.6166       510\n",
      "weighted avg     0.9125    0.9098    0.9111       510\n",
      "\n"
     ]
    }
   ],
   "source": [
    "print(classification_report(test_labels, predictions, target_names =['No default', 'Default'], digits = 4))"
   ]
  },
  {
   "cell_type": "code",
   "execution_count": 120,
   "metadata": {},
   "outputs": [
    {
     "data": {
      "text/plain": [
       "Text(0.5, 0, 'False Positive Rate')"
      ]
     },
     "execution_count": 120,
     "metadata": {},
     "output_type": "execute_result"
    },
    {
     "data": {
      "image/png": "[encoded data removed]",
      "text/plain": [
       "<Figure size 432x288 with 1 Axes>"
      ]
     },
     "metadata": {
      "needs_background": "light"
     },
     "output_type": "display_data"
    }
   ],
   "source": [
    "fpr, tpr, thresholds = roc_curve(test_labels, probas[:,0], pos_label=0)\n",
    "plt.title(\"ROC Curve (AUC = %0.2f)\"% auc(fpr, tpr))\n",
    "plt.plot(fpr, tpr, 'b')\n",
    "plt.plot([0,1],[0,1],'r--')\n",
    "plt.xlim([0,1]); plt.ylim([0,1])\n",
    "plt.ylabel('True Positive Rate')\n",
    "plt.xlabel('False Positive Rate')"
   ]
  },
  {
   "cell_type": "code",
   "execution_count": null,
   "metadata": {},
   "outputs": [],
   "source": []
  }
 ],
 "metadata": {
  "kernelspec": {
   "display_name": "Python 3",
   "language": "python",
   "name": "python3"
  },
  "language_info": {
   "codemirror_mode": {
    "name": "ipython",
    "version": 3
   },
   "file_extension": ".py",
   "mimetype": "text/x-python",
   "name": "python",
   "nbconvert_exporter": "python",
   "pygments_lexer": "ipython3",
   "version": "3.7.6"
  }
 },
 "nbformat": 4,
 "nbformat_minor": 4
}
